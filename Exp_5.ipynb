{
  "nbformat": 4,
  "nbformat_minor": 0,
  "metadata": {
    "colab": {
      "name": "Exp 5.ipynb",
      "provenance": [],
      "authorship_tag": "ABX9TyPRGgXEa4cKspMgkn9nhy7K",
      "include_colab_link": true
    },
    "kernelspec": {
      "name": "python3",
      "display_name": "Python 3"
    },
    "language_info": {
      "name": "python"
    }
  },
  "cells": [
    {
      "cell_type": "markdown",
      "metadata": {
        "id": "view-in-github",
        "colab_type": "text"
      },
      "source": [
        "<a href=\"https://colab.research.google.com/github/shenpradev/KTUMCAS3DSML/blob/main/Exp_5.ipynb\" target=\"_parent\"><img src=\"https://colab.research.google.com/assets/colab-badge.svg\" alt=\"Open In Colab\"/></a>"
      ]
    },
    {
      "cell_type": "markdown",
      "source": [
        "Aim: Program to implement k-NN classification using any standard dataset\n",
        "available in the public domain and find the accuracy of the algorithm"
      ],
      "metadata": {
        "id": "1-G_D6HglkG5"
      }
    },
    {
      "cell_type": "markdown",
      "source": [
        "Algorithm: \n",
        "\n",
        "The class of an unknown instance is computed using the following steps:\n",
        "\n",
        "1. The distance between the unknown instance and all other training instances is computed.\n",
        "2. The k nearest neighbors are identified.\n",
        "3. The class labels of the k nearest neighbors are used to determine the class label of the unknown instance by using techniques like majority voting."
      ],
      "metadata": {
        "id": "O4oCOHITmArc"
      }
    },
    {
      "cell_type": "code",
      "source": [
        "from sklearn import neighbors, datasets, preprocessing\n",
        "from sklearn.model_selection import train_test_split\n",
        "from sklearn.metrics import accuracy_score\n",
        "from sklearn.metrics import classification_report\n",
        "from sklearn.metrics import confusion_matrix\n",
        "\n",
        "iris = datasets.load_iris() \n",
        "X, y = iris.data[:, :], iris.target\n",
        "Xtrain, Xtest, y_train, y_test = train_test_split(X, y, stratify = y, random_state = 0, train_size = 0.7)\n",
        "\n",
        "scaler = preprocessing.StandardScaler().fit(Xtrain)\n",
        "Xtrain = scaler.transform(Xtrain)\n",
        "Xtest = scaler.transform(Xtest)"
      ],
      "metadata": {
        "id": "IEpxOP01lnhy"
      },
      "execution_count": 2,
      "outputs": []
    },
    {
      "cell_type": "code",
      "source": [
        "for k in range(1,15):\n",
        "\n",
        "  knn = neighbors.KNeighborsClassifier(n_neighbors=k)\n",
        "  knn.fit(Xtrain, y_train)\n",
        "  y_pred = knn.predict(Xtest)\n",
        "  print(\"When  k = %s, accuracy is %s\"%(k,accuracy_score(y_test, y_pred)))"
      ],
      "metadata": {
        "colab": {
          "base_uri": "https://localhost:8080/"
        },
        "id": "ajHWz-LCmg8r",
        "outputId": "30691edc-b593-4c8b-8ff0-ad7da698dbc3"
      },
      "execution_count": 10,
      "outputs": [
        {
          "output_type": "stream",
          "name": "stdout",
          "text": [
            "When  k = 1, accuracy is 0.9555555555555556\n",
            "When  k = 2, accuracy is 0.9555555555555556\n",
            "When  k = 3, accuracy is 0.9777777777777777\n",
            "When  k = 4, accuracy is 0.9555555555555556\n",
            "When  k = 5, accuracy is 0.9777777777777777\n",
            "When  k = 6, accuracy is 0.9555555555555556\n",
            "When  k = 7, accuracy is 0.9777777777777777\n",
            "When  k = 8, accuracy is 0.9777777777777777\n",
            "When  k = 9, accuracy is 0.9777777777777777\n",
            "When  k = 10, accuracy is 0.9555555555555556\n",
            "When  k = 11, accuracy is 0.9777777777777777\n",
            "When  k = 12, accuracy is 0.9555555555555556\n",
            "When  k = 13, accuracy is 1.0\n",
            "When  k = 14, accuracy is 0.9333333333333333\n"
          ]
        }
      ]
    }
  ]
}