{
  "nbformat": 4,
  "nbformat_minor": 0,
  "metadata": {
    "colab": {
      "name": "Exp2.ipynb",
      "provenance": [],
      "include_colab_link": true
    },
    "kernelspec": {
      "name": "python3",
      "display_name": "Python 3"
    },
    "language_info": {
      "name": "python"
    }
  },
  "cells": [
    {
      "cell_type": "markdown",
      "metadata": {
        "id": "view-in-github",
        "colab_type": "text"
      },
      "source": [
        "<a href=\"https://colab.research.google.com/github/shenpradev/KTUMCAS3DSML/blob/main/Exp2.ipynb\" target=\"_parent\"><img src=\"https://colab.research.google.com/assets/colab-badge.svg\" alt=\"Open In Colab\"/></a>"
      ]
    },
    {
      "cell_type": "markdown",
      "metadata": {
        "id": "YazGzKzXVHsY"
      },
      "source": [
        "Aim: To implement \n",
        "\n",
        "(a) Matrix operations (using vectorization), \n",
        "\n",
        "(b) transformation using python and \n",
        "\n",
        "(c) SVD using Python."
      ]
    },
    {
      "cell_type": "markdown",
      "metadata": {
        "id": "psB81fPlVa8C"
      },
      "source": [
        "**Program**\n",
        "\n",
        "(a) Matrix operations using vectorization\n",
        "\n",
        "A numpy array is a grid of values, all of the same type, and is indexed by a tuple of nonnegative integers. \n",
        "The number of dimensions is the rank of the array; \n",
        "the shape of an array is a tuple of integers giving the size of the array along each dimension.\n",
        "\n",
        "We can initialize numpy arrays from nested Python lists, and access elements using square brackets. Numpy also provides many functions to create arrays with all zero values, all  ones, identity matrix, all random values.\n",
        "\n",
        "Vectorization is used to speed up the Python code without using loop. Using such a function can help in minimizing the running time of code efficiently. Various operations are being performed over vector such as dot product of vectors which is also known as scalar product as it produces single output, outer products which results in square matrix of dimension equal to length X length of the vectors, Element wise multiplication which products the element of same indexes and dimension of the matrix remain unchanged.\n"
      ]
    },
    {
      "cell_type": "code",
      "metadata": {
        "colab": {
          "base_uri": "https://localhost:8080/"
        },
        "id": "2ikaV9dlV5tG",
        "outputId": "7dbe982b-ceda-4ec1-9c14-51891932dec6"
      },
      "source": [
        "import numpy as np\n",
        "\n",
        "a = np.array([1, 2, 3])   # Create a rank 1 array\n",
        "print(\"type: %s\" %type(a))            # Prints \"<class 'numpy.ndarray'>\"\n",
        "print(\"shape: %s\" %a.shape)            # Prints \"(3,)\"\n",
        "print(a[0], a[1], a[2])   # Prints \"1 2 3\"\n",
        "a[0] = 5                  # Change an element of the array\n",
        "print(a)                  # Prints \"[5, 2, 3]\"\n",
        "\n",
        "b = np.array([[1,2,3],[4,5,6]])    # Create a rank 2 array\n",
        "print(\"\\n shape of b:\",b.shape)                     # Prints \"(2, 3)\"\n",
        "print(b[0, 0], b[0, 1], b[1, 0])   # Prints \"1 2 4\"\n",
        "\n",
        "a = np.zeros((2,2))   # Create an array of all zeros\n",
        "print(\"All zeros matrix:\\n  %s\" %a)              # Prints \"[[ 0.  0.]\n",
        "                      #          [ 0.  0.]]\"\n",
        "\n",
        "b = np.ones((1,2))    # Create an array of all ones\n",
        "print(\"\\nAll ones matrix:\\n  %s\" %b)              # Prints \"[[ 1.  1.]]\"\n",
        "\n",
        "d = np.eye(2)         # Create a 2x2 identity matrix\n",
        "print(\"\\n identity matrix: \\n%s\"%d)              # Prints \"[[ 1.  0.]\n",
        "                      #          [ 0.  1.]]\"\n",
        "\n",
        "e = np.random.random((2,2))  # Create an array filled with random values\n",
        "print(\"\\n random matrix: \\n%s\"%e)"
      ],
      "execution_count": null,
      "outputs": [
        {
          "output_type": "stream",
          "name": "stdout",
          "text": [
            "type: <class 'numpy.ndarray'>\n",
            "shape: 3\n",
            "1 2 3\n",
            "[5 2 3]\n",
            "\n",
            " shape of b: (2, 3)\n",
            "1 2 4\n",
            "All zeros matrix:\n",
            "  [[0. 0.]\n",
            " [0. 0.]]\n",
            "\n",
            "All ones matrix:\n",
            "  [[1. 1.]]\n",
            "\n",
            " identity matrix: \n",
            "[[1. 0.]\n",
            " [0. 1.]]\n",
            "\n",
            " random matrix: \n",
            "[[0.8972642  0.58584636]\n",
            " [0.05954874 0.71295688]]\n"
          ]
        }
      ]
    },
    {
      "cell_type": "markdown",
      "metadata": {
        "id": "mw5OfpWFpWdh"
      },
      "source": [
        "in the observation book, it starts from here only."
      ]
    },
    {
      "cell_type": "code",
      "metadata": {
        "colab": {
          "base_uri": "https://localhost:8080/"
        },
        "id": "hluFpHNFpb2s",
        "outputId": "16284129-6593-4964-bc74-7c694f749e3c"
      },
      "source": [
        "#vectorized sum\n",
        "print(\"Vectorized sum example\\n\")\n",
        "x = np.array([[1,2],[3,4]])\n",
        "print(\"x:\\n %s\" %x)\n",
        "print(\"sum: %s\"%np.sum(x))  # Compute sum of all elements; prints \"10\"\n",
        "print(\"sum axis = 0: %s\" %np.sum(x, axis=0))  # Compute sum of each column; prints \"[4 6]\"\n",
        "print(\" sum axis = 1: %s\" %np.sum(x, axis=1))  # Compute sum of each row; prints \"[3 7]\"\n",
        "\n",
        "\n",
        "#matrix dot product\n",
        "a = np.arange(10000)\n",
        "b = np.arange(10000)\n",
        "\n",
        "dp = np.dot(a,b)\n",
        "\n",
        "print(\"Dot product: %s\\n\" %dp)\n",
        "\n",
        "#outer product\n",
        "op = np.outer(a,b)\n",
        "print(\"\\n Outer product: %s\\n\" %op)\n",
        "\n",
        "#elementwise product\n",
        "\n",
        "ep = np.multiply(a, b)\n",
        "\n",
        "print(\"\\n Element Wise product: %s \\n\" %ep)"
      ],
      "execution_count": null,
      "outputs": [
        {
          "output_type": "stream",
          "name": "stdout",
          "text": [
            "Vectorized sum example\n",
            "\n",
            "x:\n",
            " [[1 2]\n",
            " [3 4]]\n",
            "sum: 10\n",
            "sum axis = 0: [4 6]\n",
            " sum axis = 1: [3 7]\n",
            "Dot product: 333283335000\n",
            "\n",
            "\n",
            " Outer product: [[       0        0        0 ...        0        0        0]\n",
            " [       0        1        2 ...     9997     9998     9999]\n",
            " [       0        2        4 ...    19994    19996    19998]\n",
            " ...\n",
            " [       0     9997    19994 ... 99940009 99950006 99960003]\n",
            " [       0     9998    19996 ... 99950006 99960004 99970002]\n",
            " [       0     9999    19998 ... 99960003 99970002 99980001]]\n",
            "\n",
            "\n",
            " Element Wise product: [       0        1        4 ... 99940009 99960004 99980001] \n",
            "\n"
          ]
        }
      ]
    },
    {
      "cell_type": "markdown",
      "metadata": {
        "id": "hBmJkwOOrmrd"
      },
      "source": [
        "(b) Matrix transformation"
      ]
    },
    {
      "cell_type": "code",
      "metadata": {
        "colab": {
          "base_uri": "https://localhost:8080/"
        },
        "id": "c1teCNPlrrvi",
        "outputId": "560e2867-7de3-4b15-88bb-1444b191ebd8"
      },
      "source": [
        "import numpy as np\n",
        "\n",
        "x = np.array([[1,2], [3,4]])\n",
        "print(\"Original x: \\n%s \" %x)    # Prints \"[[1 2]\n",
        "            #          [3 4]]\"\n",
        "print(\"\\nTranspose of x: \\n%s\" %x.T)  # Prints \"[[1 3]\n",
        "            #          [2 4]]\""
      ],
      "execution_count": null,
      "outputs": [
        {
          "output_type": "stream",
          "name": "stdout",
          "text": [
            "Original x: \n",
            "[[1 2]\n",
            " [3 4]] \n",
            "\n",
            "Transpose of x: \n",
            "[[1 3]\n",
            " [2 4]]\n"
          ]
        }
      ]
    },
    {
      "cell_type": "markdown",
      "metadata": {
        "id": "6sqoXQE3s17V"
      },
      "source": [
        "(c) SVD using python\n",
        "\n",
        "Matrix decomposition, also known as matrix factorization, involves describing a given matrix using its constituent elements.\n",
        "\n",
        "The Singular-Value Decomposition, or SVD for short, is a matrix decomposition method for reducing a matrix to its constituent parts in order to make certain subsequent matrix calculations simpler.\n",
        "\n",
        "A = U . Sigma . V^T\n",
        "\n",
        "Where A is the real m x n matrix that we wish to decompose, U is an m x m matrix, Sigma (often represented by the uppercase Greek letter Sigma) is an m x n diagonal matrix, and V^T is the  transpose of an n x n matrix where T is a superscript.\n"
      ]
    },
    {
      "cell_type": "code",
      "metadata": {
        "colab": {
          "base_uri": "https://localhost:8080/"
        },
        "id": "210yI7nBtOX5",
        "outputId": "dd17f53b-d841-4e62-8b74-f75d98450161"
      },
      "source": [
        "# Singular-value decomposition\n",
        "from numpy import array\n",
        "from scipy.linalg import svd\n",
        "# define a matrix\n",
        "A = array([[1, 2], [3, 4], [5, 6]])\n",
        "print(\"A: \\n%s\" %A)\n",
        "# SVD\n",
        "U, s, VT = svd(A)\n",
        "print(\"\\nU: \\n%s\" %U)\n",
        "print(\"\\ns: \\n %s\" %s)\n",
        "print(\"\\nV^T: \\n %s\" %VT)"
      ],
      "execution_count": null,
      "outputs": [
        {
          "output_type": "stream",
          "name": "stdout",
          "text": [
            "A: \n",
            "[[1 2]\n",
            " [3 4]\n",
            " [5 6]]\n",
            "\n",
            "U: \n",
            "[[-0.2298477   0.88346102  0.40824829]\n",
            " [-0.52474482  0.24078249 -0.81649658]\n",
            " [-0.81964194 -0.40189603  0.40824829]]\n",
            "\n",
            "s: \n",
            " [9.52551809 0.51430058]\n",
            "\n",
            "V^T: \n",
            " [[-0.61962948 -0.78489445]\n",
            " [-0.78489445  0.61962948]]\n"
          ]
        }
      ]
    }
  ]
}